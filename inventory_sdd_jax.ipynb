{
 "cells": [
  {
   "cell_type": "markdown",
   "id": "070bc1ce",
   "metadata": {
    "lines_to_next_cell": 2
   },
   "source": [
    "# Inventory management via Python/JAX"
   ]
  },
  {
   "cell_type": "code",
   "execution_count": null,
   "id": "0873ec5b",
   "metadata": {},
   "outputs": [],
   "source": [
    "!pip install quantecon"
   ]
  },
  {
   "cell_type": "code",
   "execution_count": 1,
   "id": "996d2eaf",
   "metadata": {
    "execution": {
     "iopub.execute_input": "2023-08-20T09:54:09.246576Z",
     "iopub.status.busy": "2023-08-20T09:54:09.246430Z",
     "iopub.status.idle": "2023-08-20T09:54:10.073835Z",
     "shell.execute_reply": "2023-08-20T09:54:10.073357Z"
    },
    "lines_to_next_cell": 1
   },
   "outputs": [],
   "source": [
    "import quantecon as qe\n",
    "import numpy as np\n",
    "from collections import namedtuple\n",
    "from numba import njit, prange, int32\n",
    "import jax\n",
    "import jax.numpy as jnp\n",
    "import matplotlib.pyplot as plt"
   ]
  },
  {
   "cell_type": "markdown",
   "id": "df9f7eb6",
   "metadata": {},
   "source": [
    "## Model and Primitives"
   ]
  },
  {
   "cell_type": "code",
   "execution_count": 2,
   "id": "2ca0f981",
   "metadata": {
    "execution": {
     "iopub.execute_input": "2023-08-20T09:54:10.075798Z",
     "iopub.status.busy": "2023-08-20T09:54:10.075589Z",
     "iopub.status.idle": "2023-08-20T09:54:10.078224Z",
     "shell.execute_reply": "2023-08-20T09:54:10.077810Z"
    },
    "lines_to_next_cell": 1
   },
   "outputs": [],
   "source": [
    "def f(y, a, d):\n",
    "    \" Inventory update rule. \"\n",
    "    return np.maximum(y - d, 0) + a "
   ]
  },
  {
   "cell_type": "code",
   "execution_count": 3,
   "id": "341b4ac0",
   "metadata": {
    "execution": {
     "iopub.execute_input": "2023-08-20T09:54:10.079740Z",
     "iopub.status.busy": "2023-08-20T09:54:10.079591Z",
     "iopub.status.idle": "2023-08-20T09:54:10.082143Z",
     "shell.execute_reply": "2023-08-20T09:54:10.081639Z"
    },
    "lines_to_next_cell": 1
   },
   "outputs": [],
   "source": [
    "Params = namedtuple(   # Stores model parameters\n",
    "         \"Params\", (\"K\", \"c\", \"κ\", \"p\"))"
   ]
  },
  {
   "cell_type": "code",
   "execution_count": 4,
   "id": "d3d273fe",
   "metadata": {
    "execution": {
     "iopub.execute_input": "2023-08-20T09:54:10.083664Z",
     "iopub.status.busy": "2023-08-20T09:54:10.083502Z",
     "iopub.status.idle": "2023-08-20T09:54:10.087204Z",
     "shell.execute_reply": "2023-08-20T09:54:10.086717Z"
    }
   },
   "outputs": [],
   "source": [
    "def build_R(params, y_vals, d_vals, ϕ_vals):\n",
    "    K, c, κ, p = params\n",
    "    n_y = K + 1\n",
    "    n_d = len(d_vals)\n",
    "    # Create R[y, a, yp, d] and then sum out last dimension\n",
    "    y  = np.reshape(y_vals, (n_y, 1, 1, 1))\n",
    "    a  = np.reshape(y_vals, (1, n_y, 1, 1))\n",
    "    yp = np.reshape(y_vals, (1, 1, n_y, 1))\n",
    "    d  = np.reshape(d_vals, (1, 1, 1, n_d))\n",
    "    ϕ  = np.reshape(ϕ_vals, (1, 1, 1, n_d))\n",
    "    feasible = a <= K - y\n",
    "    temp = (f(y, a, d_vals) == yp) * feasible\n",
    "    R = np.sum(temp * ϕ_vals, axis=3)\n",
    "    return R"
   ]
  },
  {
   "cell_type": "code",
   "execution_count": 5,
   "id": "bda4e792",
   "metadata": {
    "execution": {
     "iopub.execute_input": "2023-08-20T09:54:10.088609Z",
     "iopub.status.busy": "2023-08-20T09:54:10.088459Z",
     "iopub.status.idle": "2023-08-20T09:54:10.091754Z",
     "shell.execute_reply": "2023-08-20T09:54:10.091468Z"
    }
   },
   "outputs": [],
   "source": [
    "def build_r(params, y_vals, d_vals, ϕ_vals):\n",
    "    K, c, κ, p = params\n",
    "    n_y = K + 1\n",
    "    n_d = len(d_vals)\n",
    "    y = np.reshape(y_vals, (n_y, 1))\n",
    "    d = np.reshape(d_vals, (1, n_d))\n",
    "    ϕ = np.reshape(ϕ_vals, (1, n_d))\n",
    "    revenue = np.minimum(y, d) * ϕ \n",
    "    exp_revenue = np.sum(revenue, axis=1)\n",
    "    exp_revenue = np.reshape(exp_revenue, (n_y, 1))\n",
    "    a = np.reshape(y_vals, (1, n_y))\n",
    "    cost = c * a + κ * (a > 0)\n",
    "    exp_profit = exp_revenue - cost\n",
    "    feasible = a <= K - y\n",
    "    r = np.where(feasible, exp_profit, -np.inf)\n",
    "    return r"
   ]
  },
  {
   "cell_type": "code",
   "execution_count": 6,
   "id": "74d687ab",
   "metadata": {
    "execution": {
     "iopub.execute_input": "2023-08-20T09:54:10.093391Z",
     "iopub.status.busy": "2023-08-20T09:54:10.093243Z",
     "iopub.status.idle": "2023-08-20T09:54:10.095391Z",
     "shell.execute_reply": "2023-08-20T09:54:10.095117Z"
    }
   },
   "outputs": [],
   "source": [
    "Arrays = namedtuple(  # Stores arrays for model\n",
    "         \"Arrays\", (\"r\", \"R\", \"y_vals\", \"z_vals\", \"Q\"))"
   ]
  },
  {
   "cell_type": "code",
   "execution_count": 7,
   "id": "c38e9ebd",
   "metadata": {
    "execution": {
     "iopub.execute_input": "2023-08-20T09:54:10.096795Z",
     "iopub.status.busy": "2023-08-20T09:54:10.096654Z",
     "iopub.status.idle": "2023-08-20T09:54:10.098777Z",
     "shell.execute_reply": "2023-08-20T09:54:10.098428Z"
    },
    "lines_to_next_cell": 1
   },
   "outputs": [],
   "source": [
    "Model = namedtuple(   # Stores all model data\n",
    "        \"Model\", (\"params\", \"sizes\", \"arrays\"))"
   ]
  },
  {
   "cell_type": "code",
   "execution_count": 8,
   "id": "b2c7f5f3",
   "metadata": {
    "execution": {
     "iopub.execute_input": "2023-08-20T09:54:10.100377Z",
     "iopub.status.busy": "2023-08-20T09:54:10.100054Z",
     "iopub.status.idle": "2023-08-20T09:54:10.104605Z",
     "shell.execute_reply": "2023-08-20T09:54:10.104199Z"
    }
   },
   "outputs": [],
   "source": [
    "def create_sdd_inventory_model(ρ=0.98,        # Z persistence\n",
    "                               ν=0.002,       # Z volatility\n",
    "                               n_z=12,        # size of Z grid\n",
    "                               b=0.97,        # Z mean\n",
    "                               K=100,         # max inventory        \n",
    "                               d_max=100,     # max value of d\n",
    "                               c=0.2,         # unit cost\n",
    "                               κ=0.8,         # fixed cost\n",
    "                               p=0.6):        # demand parameter\n",
    "\n",
    "    \"\"\"\n",
    "    Stores inventory management model primitives and default values.\n",
    "\n",
    "    The discount factor takes the form β_t = Z_t, where (Z_t) is a \n",
    "    Tauchen discretization of the Gaussian AR(1) process \n",
    "\n",
    "        Z_t = ρ Z_{t-1} + b + ν W_t.\n",
    "\n",
    "    \"\"\"\n",
    "\n",
    "\n",
    "    n_y = K + 1               # size of state space\n",
    "    y_vals = np.arange(n_y)   # inventory levels 0,...,K\n",
    "\n",
    "    # Construct r and R arrays\n",
    "    def ϕ(d):\n",
    "        return (1 - p)**d * p                      \n",
    "    d_vals = np.arange(d_max)\n",
    "    ϕ_vals = ϕ(d_vals)\n",
    "\n",
    "    # Build the exogenous discount process \n",
    "    mc = qe.tauchen(n_z, ρ, ν)\n",
    "    z_vals, Q = mc.state_values + b, mc.P\n",
    "\n",
    "    # Test spectral radius condition\n",
    "    ρL = np.max(np.abs(np.linalg.eigvals(z_vals * Q)))     \n",
    "    if ρL >= 1:\n",
    "        raise NotImplementedError(\"Error: ρ(L) ≥ 1.\")\n",
    "    else:\n",
    "        print(f\"Building model with ρ(L) = {ρL}\")\n",
    "\n",
    "    # Build namedtuples and return them\n",
    "    params = Params(K=K, c=c, κ=κ, p=p)\n",
    "    r = build_r(params, y_vals, d_vals, ϕ_vals)\n",
    "    R = build_R(params, y_vals, d_vals, ϕ_vals)\n",
    "\n",
    "    arrays = Arrays(r=r, R=R, y_vals=y_vals, z_vals=z_vals, Q=Q)\n",
    "    sizes = n_y, n_z\n",
    "    return Model(params=params, sizes=sizes, arrays=arrays)"
   ]
  },
  {
   "cell_type": "markdown",
   "id": "73e3aa9f",
   "metadata": {},
   "source": [
    "## DP algorithms"
   ]
  },
  {
   "cell_type": "code",
   "execution_count": 9,
   "id": "e6e38c16",
   "metadata": {
    "execution": {
     "iopub.execute_input": "2023-08-20T09:54:10.106124Z",
     "iopub.status.busy": "2023-08-20T09:54:10.105975Z",
     "iopub.status.idle": "2023-08-20T09:54:10.109455Z",
     "shell.execute_reply": "2023-08-20T09:54:10.109049Z"
    }
   },
   "outputs": [],
   "source": [
    "def value_function_iteration(v_init, \n",
    "                             T,\n",
    "                             get_greedy,\n",
    "                             tolerance=1e-6,        # Error tolerance\n",
    "                             max_iter=10_000,       # Max iteration bound\n",
    "                             print_step=25,         # Print at multiples\n",
    "                             verbose=False,\n",
    "                             usejax=False):\n",
    "    \"\"\"\n",
    "        Compute v_star via VFI and then compute greedy.\n",
    "    \"\"\"\n",
    "    array_lib = jnp if usejax else np\n",
    "\n",
    "    v = v_init\n",
    "    error = tolerance + 1\n",
    "    k = 1\n",
    "    while error > tolerance and k <= max_iter:\n",
    "        v_new = T(v)\n",
    "        error = array_lib.max(array_lib.abs(v_new - v))\n",
    "        if verbose and (k % print_step) == 0:\n",
    "            print(f\"Completed iteration {k} with error {error}.\")\n",
    "        v = v_new\n",
    "        k += 1\n",
    "    if error > tolerance:\n",
    "        print(f\"Warning: Iteration hit upper bound {max_iter}.\")\n",
    "    elif verbose:\n",
    "        print(f\"VFI terminated successfully in {k} iterations.\")\n",
    "    v_star = v\n",
    "    σ_star = get_greedy(v_star)\n",
    "    return v_star, σ_star"
   ]
  },
  {
   "cell_type": "code",
   "execution_count": 10,
   "id": "5eb5a16a",
   "metadata": {
    "execution": {
     "iopub.execute_input": "2023-08-20T09:54:10.110923Z",
     "iopub.status.busy": "2023-08-20T09:54:10.110777Z",
     "iopub.status.idle": "2023-08-20T09:54:10.114336Z",
     "shell.execute_reply": "2023-08-20T09:54:10.113933Z"
    }
   },
   "outputs": [],
   "source": [
    "def optimistic_policy_iteration(v_init, \n",
    "                                T_σ,\n",
    "                                get_greedy,\n",
    "                                m=20,\n",
    "                                tolerance=1e-6, \n",
    "                                max_iter=1_000,\n",
    "                                print_step=10,\n",
    "                                verbose=False,\n",
    "                                usejax=False):\n",
    "    \"Optimistic policy iteration routine.\"\n",
    "    \n",
    "    array_lib = jnp if usejax else np\n",
    "    v = v_init\n",
    "    error = tolerance + 1\n",
    "    k = 1\n",
    "    while error > tolerance and k < max_iter:\n",
    "        last_v = v\n",
    "        σ = get_greedy(v)\n",
    "        for i in range(m):\n",
    "            v = T_σ(v, σ)\n",
    "        error = array_lib.max(array_lib.abs(v - last_v))\n",
    "        if verbose and k % print_step == 0:\n",
    "            print(f\"Completed iteration {k} with error {error}.\")\n",
    "        k += 1\n",
    "    if error > tolerance:\n",
    "        print(f\"Warning: Iteration hit upper bound {max_iter}.\")\n",
    "    else: \n",
    "        print(f\"OPI terminated successfully in {k} iterations (m = {m}).\")\n",
    "    return v, get_greedy(v)"
   ]
  },
  {
   "cell_type": "code",
   "execution_count": 11,
   "id": "b422546c",
   "metadata": {
    "execution": {
     "iopub.execute_input": "2023-08-20T09:54:10.116014Z",
     "iopub.status.busy": "2023-08-20T09:54:10.115677Z",
     "iopub.status.idle": "2023-08-20T09:54:10.118748Z",
     "shell.execute_reply": "2023-08-20T09:54:10.118387Z"
    }
   },
   "outputs": [],
   "source": [
    "def howard_policy_iteration(v_init, \n",
    "                            get_value,\n",
    "                            get_greedy,\n",
    "                            verbose=False,\n",
    "                            usejax=False):\n",
    "    \"Howard policy iteration routine.\"\n",
    "    array_lib = jnp if usejax else np\n",
    "\n",
    "    σ = get_greedy(v_init)\n",
    "    i, error = 0, 1.0\n",
    "    while error > 0:\n",
    "        v_σ = get_value(σ)\n",
    "        σ_new = get_greedy(v_σ)\n",
    "        error = array_lib.max(array_lib.abs(σ_new - σ))\n",
    "        σ = σ_new\n",
    "        i = i + 1\n",
    "        if verbose:\n",
    "            print(f\"Concluded loop {i} with error {error}.\")\n",
    "    print(f\"HPI converged in {i} iteration(s).\")\n",
    "    return v_σ, σ"
   ]
  },
  {
   "cell_type": "markdown",
   "id": "c24e0aa3",
   "metadata": {},
   "source": [
    "## Code for simulations and plots"
   ]
  },
  {
   "cell_type": "code",
   "execution_count": 12,
   "id": "3523a15f",
   "metadata": {
    "execution": {
     "iopub.execute_input": "2023-08-20T09:54:10.120070Z",
     "iopub.status.busy": "2023-08-20T09:54:10.119953Z",
     "iopub.status.idle": "2023-08-20T09:54:10.123220Z",
     "shell.execute_reply": "2023-08-20T09:54:10.122802Z"
    }
   },
   "outputs": [],
   "source": [
    "def sim_inventories(model, σ_star, ts_length, Y_init=0, seed=500):\n",
    "    \"\"\"\n",
    "        Simulate inventory dynamics and interest rates given an \n",
    "        optimal policy σ_star.\n",
    "    \"\"\"\n",
    "    # Set up\n",
    "    np.random.seed(seed)\n",
    "    K, c, κ, p = model.params\n",
    "    r, R, y_vals, z_vals, Q = model.arrays\n",
    "\n",
    "    # Generate Markov chain for discount factor\n",
    "    z_mc = qe.MarkovChain(Q, z_vals)\n",
    "    i_z = z_mc.simulate_indices(ts_length, init=1, random_state=seed)\n",
    "\n",
    "    # Generate corresponding inventory series\n",
    "    Y = np.zeros(ts_length, dtype=int)\n",
    "    Y[0] = Y_init\n",
    "    for t in range(ts_length - 1):\n",
    "        D = np.random.geometric(p) - 1\n",
    "        a = σ_star[Y[t], i_z[t]] \n",
    "        Y[t+1] = f(Y[t],  a,  D)\n",
    "\n",
    "    # Return both series\n",
    "    return Y, z_vals[i_z]"
   ]
  },
  {
   "cell_type": "code",
   "execution_count": 13,
   "id": "36f37bb3",
   "metadata": {
    "execution": {
     "iopub.execute_input": "2023-08-20T09:54:10.124554Z",
     "iopub.status.busy": "2023-08-20T09:54:10.124437Z",
     "iopub.status.idle": "2023-08-20T09:54:10.127791Z",
     "shell.execute_reply": "2023-08-20T09:54:10.127501Z"
    }
   },
   "outputs": [],
   "source": [
    "def plot_ts(model,\n",
    "            σ_star,\n",
    "            ts_length=400,\n",
    "            fontsize=12, \n",
    "            figname=\"ts.pdf\",\n",
    "            savefig=False):\n",
    "    \"\"\"\n",
    "        Solve model, plot a time series of inventory and interest rates.\n",
    "\n",
    "    \"\"\"\n",
    "\n",
    "    # Obtain inventory and discount factor series\n",
    "    Y, Z = sim_inventories(model, σ_star, ts_length)\n",
    "    r = (1 / Z) - 1 # calculate interest rate from discount factors\n",
    "\n",
    "    # Plot\n",
    "    fig, axes = plt.subplots(2, 1, figsize=(9, 5.5))\n",
    "    ax = axes[0]\n",
    "    ax.plot(Y, label=\"inventory\", alpha=0.7)\n",
    "    ax.set_xlabel(\"time\", fontsize=fontsize)\n",
    "    ax.legend(fontsize=fontsize, frameon=False)\n",
    "    ax.set_ylim(0, np.max(Y)+3)\n",
    "    ax = axes[1]\n",
    "    ax.plot(r, label=\"$r_t$\", alpha=0.7)\n",
    "    ax.set_xlabel(\"$t$\", fontsize=fontsize)\n",
    "    ax.legend(fontsize=fontsize, frameon=False)\n",
    "    plt.tight_layout()\n",
    "    plt.show()\n",
    "    if savefig:\n",
    "        fig.savefig(figname)"
   ]
  },
  {
   "cell_type": "code",
   "execution_count": null,
   "id": "f76f46aa",
   "metadata": {},
   "outputs": [],
   "source": []
  },
  {
   "cell_type": "code",
   "execution_count": 14,
   "id": "0cc0ad36",
   "metadata": {
    "execution": {
     "iopub.execute_input": "2023-08-20T09:54:10.129299Z",
     "iopub.status.busy": "2023-08-20T09:54:10.129018Z",
     "iopub.status.idle": "2023-08-20T09:54:10.132372Z",
     "shell.execute_reply": "2023-08-20T09:54:10.131958Z"
    }
   },
   "outputs": [],
   "source": [
    "def plot_timing(hpi_time, \n",
    "                vfi_time,\n",
    "                opi_times,\n",
    "                m_vals, \n",
    "                figname=\"timing.pdf\",\n",
    "                fontsize=12,\n",
    "                savefig=False):\n",
    "    \"\"\"\n",
    "    Plot relative timing of different algorithms.\n",
    "\n",
    "    \"\"\"\n",
    "    fig, ax = plt.subplots(figsize=(9, 5.2))\n",
    "\n",
    "    y_values = (np.full(len(m_vals), vfi_time), \n",
    "                np.full(len(m_vals), hpi_time),\n",
    "                opi_times)\n",
    "    labels = \"VFI\", \"HPI\", \"OPI\"\n",
    "\n",
    "    for y_vals, label in zip(y_values, labels):\n",
    "        ax.plot(m_vals, y_vals, lw=2, label=label)\n",
    "\n",
    "    ax.legend(fontsize=fontsize, frameon=False)\n",
    "    ax.set_xlabel(\"$m$\", fontsize=fontsize)\n",
    "    ax.set_ylabel(\"time\", fontsize=fontsize)\n",
    "    plt.show()\n",
    "\n",
    "    if savefig:\n",
    "        fig.savefig(figname)"
   ]
  },
  {
   "cell_type": "code",
   "execution_count": null,
   "id": "0305b72f",
   "metadata": {
    "lines_to_next_cell": 2
   },
   "outputs": [],
   "source": []
  },
  {
   "cell_type": "code",
   "execution_count": 15,
   "id": "f88ca3db",
   "metadata": {
    "execution": {
     "iopub.execute_input": "2023-08-20T09:54:10.133894Z",
     "iopub.status.busy": "2023-08-20T09:54:10.133614Z",
     "iopub.status.idle": "2023-08-20T09:54:10.135839Z",
     "shell.execute_reply": "2023-08-20T09:54:10.135371Z"
    },
    "lines_to_next_cell": 1
   },
   "outputs": [],
   "source": [
    "jax.config.update(\"jax_enable_x64\", True)"
   ]
  },
  {
   "cell_type": "code",
   "execution_count": 16,
   "id": "67766577",
   "metadata": {
    "execution": {
     "iopub.execute_input": "2023-08-20T09:54:10.137177Z",
     "iopub.status.busy": "2023-08-20T09:54:10.137059Z",
     "iopub.status.idle": "2023-08-20T09:54:10.139345Z",
     "shell.execute_reply": "2023-08-20T09:54:10.139019Z"
    }
   },
   "outputs": [],
   "source": [
    "@jax.jit  # Use JAX to JIT-compile f\n",
    "def f(y, a, d):\n",
    "    \" Inventory update. \"\n",
    "    return jnp.maximum(y - d, 0) + a "
   ]
  },
  {
   "cell_type": "code",
   "execution_count": 17,
   "id": "865c2d81",
   "metadata": {
    "execution": {
     "iopub.execute_input": "2023-08-20T09:54:10.140658Z",
     "iopub.status.busy": "2023-08-20T09:54:10.140540Z",
     "iopub.status.idle": "2023-08-20T09:54:10.142559Z",
     "shell.execute_reply": "2023-08-20T09:54:10.142203Z"
    }
   },
   "outputs": [],
   "source": [
    "JAXModel = namedtuple(\"Model\", \n",
    "                      (\"params\", \"sizes\", \"arrays\"))"
   ]
  },
  {
   "cell_type": "code",
   "execution_count": 18,
   "id": "5bde43a1",
   "metadata": {
    "execution": {
     "iopub.execute_input": "2023-08-20T09:54:10.143893Z",
     "iopub.status.busy": "2023-08-20T09:54:10.143777Z",
     "iopub.status.idle": "2023-08-20T09:54:10.146129Z",
     "shell.execute_reply": "2023-08-20T09:54:10.145718Z"
    }
   },
   "outputs": [],
   "source": [
    "def create_sdd_inventory_model_jax():\n",
    "\n",
    "    model = create_sdd_inventory_model()\n",
    "    params = model.params\n",
    "    sizes = model.sizes\n",
    "    arrays = [jax.device_put(a) for a in model.arrays]\n",
    "\n",
    "    return JAXModel(params, sizes, arrays)"
   ]
  },
  {
   "cell_type": "markdown",
   "id": "a5f59467",
   "metadata": {},
   "source": [
    "## Operators and functions "
   ]
  },
  {
   "cell_type": "code",
   "execution_count": 19,
   "id": "3eae3590",
   "metadata": {
    "execution": {
     "iopub.execute_input": "2023-08-20T09:54:10.147461Z",
     "iopub.status.busy": "2023-08-20T09:54:10.147343Z",
     "iopub.status.idle": "2023-08-20T09:54:10.150645Z",
     "shell.execute_reply": "2023-08-20T09:54:10.150282Z"
    }
   },
   "outputs": [],
   "source": [
    "def B(v, params, sizes, arrays):\n",
    "    \"\"\"\n",
    "    Returns an array with indices (y, a, z) equal to\n",
    "\n",
    "         r(y, a) + β(z) Σ_{y′, z′} v(y′, z′) R(y, a, y′) Q(z, z′)\n",
    "\n",
    "    \"\"\"\n",
    "    # Set up\n",
    "    K, c, κ, p = params\n",
    "    r, R, y_vals, z_vals, Q = arrays\n",
    "    n_y, n_z = sizes\n",
    "    # broadcasting over     (y,   z,   a)\n",
    "    r = jnp.reshape(r,      (n_y, 1,   n_y))\n",
    "    β = jnp.reshape(z_vals, (1,   n_z, 1))\n",
    "    # broadcasting over  (y,   z,   a,   yp,   zp)\n",
    "    R = jnp.reshape(R,   (n_y, 1,   n_y, n_y,  1))\n",
    "    Q = jnp.reshape(Q,   (1,   n_z, 1,   1,    n_z))\n",
    "    v = jnp.reshape(v,   (1,   1,   1,   n_y,  n_z))\n",
    "\n",
    "    Ev = jnp.sum(v * R * Q, axis=(3, 4))\n",
    "    return r + β * Ev"
   ]
  },
  {
   "cell_type": "code",
   "execution_count": 20,
   "id": "3847d2a6",
   "metadata": {
    "execution": {
     "iopub.execute_input": "2023-08-20T09:54:10.152024Z",
     "iopub.status.busy": "2023-08-20T09:54:10.151844Z",
     "iopub.status.idle": "2023-08-20T09:54:10.154398Z",
     "shell.execute_reply": "2023-08-20T09:54:10.153985Z"
    }
   },
   "outputs": [],
   "source": [
    "def compute_r_σ(σ, params, sizes, arrays):\n",
    "    # Set up\n",
    "    r, R, y_vals, z_vals, Q = arrays\n",
    "    n_y, n_z = sizes\n",
    "    z_idx = jnp.arange(n_z)\n",
    "    # Create r_σ with indices (y,   z)\n",
    "    y = jnp.reshape(y_vals,    (n_y, 1))\n",
    "    z = jnp.reshape(z_idx,     (1,   n_z))\n",
    "    r_σ = r[y, σ[y, z]]\n",
    "    return r_σ"
   ]
  },
  {
   "cell_type": "code",
   "execution_count": 21,
   "id": "80d28ec1",
   "metadata": {
    "execution": {
     "iopub.execute_input": "2023-08-20T09:54:10.155748Z",
     "iopub.status.busy": "2023-08-20T09:54:10.155632Z",
     "iopub.status.idle": "2023-08-20T09:54:10.158539Z",
     "shell.execute_reply": "2023-08-20T09:54:10.158166Z"
    }
   },
   "outputs": [],
   "source": [
    "def compute_R_σ(σ, params, sizes, arrays):\n",
    "    # Set up\n",
    "    r, R, y_vals, z_vals, Q = arrays\n",
    "    n_y, n_z = sizes\n",
    "    z_idx = jnp.arange(n_z)\n",
    "    # Create R_σ with indices (y,   z,   yp)\n",
    "    y  = jnp.reshape(y_vals,   (n_y, 1,   1))\n",
    "    yp = jnp.reshape(y_vals,   (1,   1,   n_y))\n",
    "    z  = jnp.reshape(z_idx,    (1,   n_z, 1))\n",
    "    R_σ = R[y, σ[y, z], yp]\n",
    "    return R_σ "
   ]
  },
  {
   "cell_type": "code",
   "execution_count": 22,
   "id": "c7a126de",
   "metadata": {
    "execution": {
     "iopub.execute_input": "2023-08-20T09:54:10.160011Z",
     "iopub.status.busy": "2023-08-20T09:54:10.159824Z",
     "iopub.status.idle": "2023-08-20T09:54:10.162536Z",
     "shell.execute_reply": "2023-08-20T09:54:10.162157Z"
    }
   },
   "outputs": [],
   "source": [
    "def compute_L_σ(σ, params, sizes, arrays):\n",
    "    # Set up\n",
    "    r, R, y_vals, z_vals, Q = arrays\n",
    "    n_y, n_z = sizes\n",
    "    R_σ = compute_R_σ(σ, params, sizes, arrays)\n",
    "    # Create L_σ with indices (y,   z,   yp,  zp)\n",
    "    β   = jnp.reshape(z_vals,  (1,   n_z, 1,   1))\n",
    "    R_σ = jnp.reshape(R_σ,     (n_y, n_z, n_y, 1))\n",
    "    Q   = jnp.reshape(Q,       (1,   n_z, 1,   n_z))\n",
    "    L_σ = β * R_σ * Q\n",
    "    return L_σ"
   ]
  },
  {
   "cell_type": "code",
   "execution_count": 23,
   "id": "9b558e66",
   "metadata": {
    "execution": {
     "iopub.execute_input": "2023-08-20T09:54:10.163839Z",
     "iopub.status.busy": "2023-08-20T09:54:10.163723Z",
     "iopub.status.idle": "2023-08-20T09:54:10.165930Z",
     "shell.execute_reply": "2023-08-20T09:54:10.165615Z"
    }
   },
   "outputs": [],
   "source": [
    "def T(v, params, sizes, arrays):\n",
    "    \"The Bellman operator.\"\n",
    "    return jnp.max(B(v, params, sizes, arrays), axis=2)"
   ]
  },
  {
   "cell_type": "code",
   "execution_count": 24,
   "id": "f2ac4fdd",
   "metadata": {
    "execution": {
     "iopub.execute_input": "2023-08-20T09:54:10.167335Z",
     "iopub.status.busy": "2023-08-20T09:54:10.167167Z",
     "iopub.status.idle": "2023-08-20T09:54:10.169372Z",
     "shell.execute_reply": "2023-08-20T09:54:10.168955Z"
    }
   },
   "outputs": [],
   "source": [
    "def get_greedy(v, params, sizes, arrays):\n",
    "    \"Get a v-greedy policy.\"\n",
    "    return jnp.argmax(B(v, params, sizes, arrays), axis=2)"
   ]
  },
  {
   "cell_type": "code",
   "execution_count": 25,
   "id": "cd1e55c7",
   "metadata": {
    "execution": {
     "iopub.execute_input": "2023-08-20T09:54:10.170713Z",
     "iopub.status.busy": "2023-08-20T09:54:10.170554Z",
     "iopub.status.idle": "2023-08-20T09:54:10.173396Z",
     "shell.execute_reply": "2023-08-20T09:54:10.172981Z"
    }
   },
   "outputs": [],
   "source": [
    "def T_σ(v, σ, params, sizes, arrays):\n",
    "    \"The policy operator.\"\n",
    "    r, R, y_vals, z_vals, Q = arrays\n",
    "    n_z, n_y = len(z_vals), len(y_vals)\n",
    "    r_σ = compute_r_σ(σ, params, sizes, arrays)\n",
    "    L_σ = compute_L_σ(σ, params, sizes, arrays)\n",
    "    v = jnp.reshape(v, (1, 1, n_y, n_z))\n",
    "    return r_σ + jnp.sum(L_σ * v, axis=(2, 3))"
   ]
  },
  {
   "cell_type": "code",
   "execution_count": 26,
   "id": "b26ff298",
   "metadata": {
    "execution": {
     "iopub.execute_input": "2023-08-20T09:54:10.174865Z",
     "iopub.status.busy": "2023-08-20T09:54:10.174705Z",
     "iopub.status.idle": "2023-08-20T09:54:10.177647Z",
     "shell.execute_reply": "2023-08-20T09:54:10.177226Z"
    }
   },
   "outputs": [],
   "source": [
    "def get_value(σ, params, sizes, arrays):\n",
    "    r, R, y_vals, z_vals, Q = arrays\n",
    "    n_z, n_y = len(z_vals), len(y_vals)\n",
    "    r_σ = compute_r_σ(σ, params, sizes, arrays)\n",
    "    L_σ = compute_L_σ(σ, params, sizes, arrays)\n",
    "    # Reshape for matrix algebra\n",
    "    n = n_z * n_y\n",
    "    L_σ = jnp.reshape(L_σ, (n, n))\n",
    "    r_σ = jnp.reshape(r_σ, n)\n",
    "    # Apply matrix operations --- solve for the value of σ \n",
    "    I = jnp.identity(n)\n",
    "    v_σ = jnp.linalg.solve(I - L_σ,  r_σ)\n",
    "    # Return as multi-index array\n",
    "    return jnp.reshape(v_σ, (n_y, n_z))"
   ]
  },
  {
   "cell_type": "markdown",
   "id": "e0304933",
   "metadata": {},
   "source": [
    "## JIT compile functions and operators "
   ]
  },
  {
   "cell_type": "code",
   "execution_count": 27,
   "id": "5b878834",
   "metadata": {
    "execution": {
     "iopub.execute_input": "2023-08-20T09:54:10.179000Z",
     "iopub.status.busy": "2023-08-20T09:54:10.178883Z",
     "iopub.status.idle": "2023-08-20T09:54:10.182387Z",
     "shell.execute_reply": "2023-08-20T09:54:10.181976Z"
    }
   },
   "outputs": [],
   "source": [
    "B = jax.jit(B, static_argnums=(2,))\n",
    "compute_r_σ = jax.jit(compute_r_σ, static_argnums=(2,))\n",
    "compute_R_σ = jax.jit(compute_R_σ, static_argnums=(2,))\n",
    "compute_L_σ = jax.jit(compute_L_σ, static_argnums=(2,))\n",
    "T = jax.jit(T, static_argnums=(2,))\n",
    "T_σ = jax.jit(T_σ, static_argnums=(3,))\n",
    "get_greedy = jax.jit(get_greedy, static_argnums=(2,))\n",
    "get_value = jax.jit(get_value, static_argnums=(2,))"
   ]
  },
  {
   "cell_type": "markdown",
   "id": "ecf75e9c",
   "metadata": {},
   "source": [
    "## Custom solvers "
   ]
  },
  {
   "cell_type": "code",
   "execution_count": 28,
   "id": "6aed14b6",
   "metadata": {
    "execution": {
     "iopub.execute_input": "2023-08-20T09:54:10.183745Z",
     "iopub.status.busy": "2023-08-20T09:54:10.183629Z",
     "iopub.status.idle": "2023-08-20T09:54:10.187640Z",
     "shell.execute_reply": "2023-08-20T09:54:10.187348Z"
    }
   },
   "outputs": [],
   "source": [
    "def solve_model_jax(model, algorithm=\"OPI\", **kwargs):\n",
    "    \"\"\"\n",
    "    General purpose solver. \n",
    "\n",
    "    algorithm : OPI, VFI or HPI\n",
    "\n",
    "    \"\"\"\n",
    "\n",
    "    # Set up\n",
    "    params, sizes, arrays = model\n",
    "    n_y, n_z = sizes\n",
    "    v_init = jnp.zeros((n_y, n_z))\n",
    "\n",
    "    # Solve\n",
    "    print(f\"Solving model via using {algorithm}.\")\n",
    "    match algorithm:\n",
    "        case \"OPI\":\n",
    "            solver = optimistic_policy_iteration\n",
    "            args = (v_init, \n",
    "                lambda v, σ: T_σ(v, σ, params, sizes, arrays), \n",
    "                lambda v: get_greedy(v, params, sizes, arrays))\n",
    "        case \"HPI\":\n",
    "            solver = howard_policy_iteration\n",
    "            args = (v_init, \n",
    "                lambda σ: get_value(σ, params, sizes, arrays), \n",
    "                lambda v: get_greedy(v, params, sizes, arrays))\n",
    "        case \"VFI\":\n",
    "            solver = value_function_iteration\n",
    "            args = (v_init, \n",
    "                lambda v: T(v, params, sizes, arrays), \n",
    "                lambda v: get_greedy(v, params, sizes, arrays))\n",
    "        case _:\n",
    "            raise ValueError(\"Algorithm must be in {OPI, VFI, HPI}\")\n",
    "\n",
    "    qe.tic()\n",
    "    kwargs['usejax'] = True\n",
    "    v_star, σ_star = solver(*args, **kwargs)\n",
    "    run_time = qe.toc()\n",
    "    print(f\"Solved model using {algorithm} in {run_time:.5f} seconds.\")\n",
    "\n",
    "    return v_star, σ_star"
   ]
  },
  {
   "cell_type": "code",
   "execution_count": 29,
   "id": "b9fff1ba",
   "metadata": {
    "execution": {
     "iopub.execute_input": "2023-08-20T09:54:10.189052Z",
     "iopub.status.busy": "2023-08-20T09:54:10.188873Z",
     "iopub.status.idle": "2023-08-20T09:54:10.192441Z",
     "shell.execute_reply": "2023-08-20T09:54:10.192029Z"
    }
   },
   "outputs": [],
   "source": [
    "def test_timing_jax(model,\n",
    "                    m_vals=range(1, 100, 20),\n",
    "                    figname=\"jax_timing.pdf\",\n",
    "                    savefig=False):\n",
    "    \"\"\"\n",
    "    Plot relative timing of different algorithms.\n",
    "\n",
    "    \"\"\"\n",
    "\n",
    "    qe.tic()\n",
    "    _, σ_pi = solve_model_jax(model, algorithm=\"HPI\")\n",
    "    hpi_time = qe.toc()\n",
    "\n",
    "    qe.tic()\n",
    "    _, σ_vfi = solve_model_jax(model, algorithm=\"VFI\")\n",
    "    vfi_time = qe.toc()\n",
    "\n",
    "    error = jnp.max(jnp.abs(σ_vfi - σ_pi))\n",
    "    if error:\n",
    "        print(\"Warning: VFI policy deviated with max error {error}.\")\n",
    "\n",
    "    opi_times = []\n",
    "    for m in m_vals:\n",
    "        qe.tic()\n",
    "        _, σ_opi = solve_model_jax(model, algorithm=\"OPI\", m=m)\n",
    "        opi_times.append(qe.toc())\n",
    "\n",
    "        error = jnp.max(jnp.abs(σ_opi - σ_pi))\n",
    "        if error:\n",
    "            print(\"Warning: OPI policy deviated with max error {error}.\")\n",
    "\n",
    "    plot_timing(hpi_time, \n",
    "                vfi_time,\n",
    "                opi_times,\n",
    "                m_vals, \n",
    "                figname=figname,\n",
    "                savefig=False)\n",
    "\n",
    "    return hpi_time, vfi_time, opi_times"
   ]
  },
  {
   "cell_type": "markdown",
   "id": "022fb6a9",
   "metadata": {},
   "source": [
    "## Simulations and plots "
   ]
  },
  {
   "cell_type": "code",
   "execution_count": 30,
   "id": "17313585",
   "metadata": {
    "execution": {
     "iopub.execute_input": "2023-08-20T09:54:10.193727Z",
     "iopub.status.busy": "2023-08-20T09:54:10.193613Z",
     "iopub.status.idle": "2023-08-20T09:54:12.328507Z",
     "shell.execute_reply": "2023-08-20T09:54:12.327984Z"
    }
   },
   "outputs": [
    {
     "name": "stdout",
     "output_type": "stream",
     "text": [
      "Building model with ρ(L) = 0.977143695769931\n"
     ]
    }
   ],
   "source": [
    "model = create_sdd_inventory_model_jax()"
   ]
  },
  {
   "cell_type": "markdown",
   "id": "b6fae18d",
   "metadata": {},
   "source": [
    "### Solve by VFI "
   ]
  },
  {
   "cell_type": "code",
   "execution_count": 31,
   "id": "07849919",
   "metadata": {
    "execution": {
     "iopub.execute_input": "2023-08-20T09:54:12.330177Z",
     "iopub.status.busy": "2023-08-20T09:54:12.330051Z",
     "iopub.status.idle": "2023-08-20T09:54:14.341998Z",
     "shell.execute_reply": "2023-08-20T09:54:14.341538Z"
    }
   },
   "outputs": [
    {
     "name": "stdout",
     "output_type": "stream",
     "text": [
      "Solving model via using VFI.\n",
      "Completed iteration 25 with error 0.5739779924809874.\n",
      "Completed iteration 50 with error 0.4016430079271984.\n",
      "Completed iteration 75 with error 0.25370625675735425.\n",
      "Completed iteration 100 with error 0.15160902156796396.\n",
      "Completed iteration 125 with error 0.08410577632669458.\n",
      "Completed iteration 150 with error 0.04033201378752693.\n",
      "Completed iteration 175 with error 0.0201899569534163.\n",
      "Completed iteration 200 with error 0.011168317779329584.\n",
      "Completed iteration 225 with error 0.006278262218586406.\n",
      "Completed iteration 250 with error 0.00352780405119546.\n",
      "Completed iteration 275 with error 0.0019808976817543567.\n",
      "Completed iteration 300 with error 0.0011118451957941033.\n",
      "Completed iteration 325 with error 0.000623919808440121.\n",
      "Completed iteration 350 with error 0.0003500730069418978.\n",
      "Completed iteration 375 with error 0.0001964074690903317.\n",
      "Completed iteration 400 with error 0.00011018953769337259.\n",
      "Completed iteration 425 with error 6.181775447089422e-05.\n",
      "Completed iteration 450 with error 3.468013563434624e-05.\n",
      "Completed iteration 475 with error 1.9455634081566586e-05.\n",
      "Completed iteration 500 with error 1.091461294322471e-05.\n",
      "Completed iteration 525 with error 6.123086109255382e-06.\n",
      "Completed iteration 550 with error 3.4350406465932792e-06.\n",
      "Completed iteration 575 with error 1.9270505475788013e-06.\n",
      "Completed iteration 600 with error 1.0810708843678185e-06.\n",
      "VFI terminated successfully in 605 iterations.\n",
      "TOC: Elapsed: 0:00:1.97\n",
      "Solved model using VFI in 1.97107 seconds.\n"
     ]
    }
   ],
   "source": [
    "v_star, σ_star = solve_model_jax(model, algorithm=\"VFI\", verbose=True)"
   ]
  },
  {
   "cell_type": "markdown",
   "id": "9841b6dc",
   "metadata": {},
   "source": [
    "### Solve by HPI"
   ]
  },
  {
   "cell_type": "code",
   "execution_count": 32,
   "id": "31c8586a",
   "metadata": {
    "execution": {
     "iopub.execute_input": "2023-08-20T09:54:14.343683Z",
     "iopub.status.busy": "2023-08-20T09:54:14.343560Z",
     "iopub.status.idle": "2023-08-20T09:54:14.858286Z",
     "shell.execute_reply": "2023-08-20T09:54:14.857878Z"
    }
   },
   "outputs": [
    {
     "name": "stdout",
     "output_type": "stream",
     "text": [
      "Solving model via using HPI.\n",
      "Concluded loop 1 with error 71.\n",
      "Concluded loop 2 with error 64.\n",
      "Concluded loop 3 with error 34.\n",
      "Concluded loop 4 with error 33.\n",
      "Concluded loop 5 with error 24.\n",
      "Concluded loop 6 with error 25.\n",
      "Concluded loop 7 with error 25.\n",
      "Concluded loop 8 with error 0.\n",
      "HPI converged in 8 iteration(s).\n",
      "TOC: Elapsed: 0:00:0.51\n",
      "Solved model using HPI in 0.51191 seconds.\n"
     ]
    }
   ],
   "source": [
    "v_star, σ_star = solve_model_jax(model, algorithm=\"HPI\", verbose=True)"
   ]
  },
  {
   "cell_type": "markdown",
   "id": "9176774b",
   "metadata": {},
   "source": [
    "### Solve by OPI"
   ]
  },
  {
   "cell_type": "code",
   "execution_count": 33,
   "id": "6c93613b",
   "metadata": {
    "execution": {
     "iopub.execute_input": "2023-08-20T09:54:14.859736Z",
     "iopub.status.busy": "2023-08-20T09:54:14.859603Z",
     "iopub.status.idle": "2023-08-20T09:54:15.112119Z",
     "shell.execute_reply": "2023-08-20T09:54:15.111715Z"
    },
    "lines_to_next_cell": 2
   },
   "outputs": [
    {
     "name": "stdout",
     "output_type": "stream",
     "text": [
      "Solving model via using OPI.\n",
      "Completed iteration 10 with error 0.3664662873701303.\n",
      "Completed iteration 20 with error 0.0036724615057792676.\n",
      "Completed iteration 30 with error 3.603562219467449e-05.\n",
      "OPI terminated successfully in 39 iterations (m = 20).\n",
      "TOC: Elapsed: 0:00:0.24\n",
      "Solved model using OPI in 0.24989 seconds.\n"
     ]
    }
   ],
   "source": [
    "v_star, σ_star = solve_model_jax(model, algorithm=\"OPI\", verbose=True)"
   ]
  },
  {
   "cell_type": "code",
   "execution_count": 34,
   "id": "53fd3e9a",
   "metadata": {
    "execution": {
     "iopub.execute_input": "2023-08-20T09:54:15.113538Z",
     "iopub.status.busy": "2023-08-20T09:54:15.113402Z",
     "iopub.status.idle": "2023-08-20T09:54:16.681031Z",
     "shell.execute_reply": "2023-08-20T09:54:16.680451Z"
    }
   },
   "outputs": [
    {
     "data": {
      "image/png": "[encoded data removed]",
      "text/plain": [
       "<Figure size 900x550 with 2 Axes>"
      ]
     },
     "metadata": {},
     "output_type": "display_data"
    }
   ],
   "source": [
    "plot_ts(model, σ_star, figname=\"jax_ts.pdf\", savefig=False)"
   ]
  },
  {
   "cell_type": "markdown",
   "id": "55c2e27d",
   "metadata": {},
   "source": [
    "### Plot timing test"
   ]
  },
  {
   "cell_type": "code",
   "execution_count": 35,
   "id": "ba8167d0",
   "metadata": {
    "execution": {
     "iopub.execute_input": "2023-08-20T09:54:16.682747Z",
     "iopub.status.busy": "2023-08-20T09:54:16.682517Z",
     "iopub.status.idle": "2023-08-20T09:54:20.475494Z",
     "shell.execute_reply": "2023-08-20T09:54:20.475037Z"
    }
   },
   "outputs": [
    {
     "name": "stdout",
     "output_type": "stream",
     "text": [
      "Solving model via using HPI.\n",
      "HPI converged in 8 iteration(s).\n",
      "TOC: Elapsed: 0:00:0.10\n",
      "Solved model using HPI in 0.10134 seconds.\n",
      "TOC: Elapsed: 0:00:0.10\n",
      "Solving model via using VFI.\n",
      "TOC: Elapsed: 0:00:1.55\n",
      "Solved model using VFI in 1.55340 seconds.\n",
      "TOC: Elapsed: 0:00:1.55\n",
      "Solving model via using OPI.\n",
      "OPI terminated successfully in 605 iterations (m = 1).\n",
      "TOC: Elapsed: 0:00:1.58\n",
      "Solved model using OPI in 1.58975 seconds.\n",
      "TOC: Elapsed: 0:00:1.58\n",
      "Solving model via using OPI.\n",
      "OPI terminated successfully in 38 iterations (m = 21).\n",
      "TOC: Elapsed: 0:00:0.12\n",
      "Solved model using OPI in 0.12983 seconds.\n",
      "TOC: Elapsed: 0:00:0.12\n",
      "Solving model via using OPI.\n",
      "OPI terminated successfully in 22 iterations (m = 41).\n",
      "TOC: Elapsed: 0:00:0.09\n",
      "Solved model using OPI in 0.09450 seconds.\n",
      "TOC: Elapsed: 0:00:0.09\n",
      "Solving model via using OPI.\n",
      "OPI terminated successfully in 19 iterations (m = 61).\n",
      "TOC: Elapsed: 0:00:0.09\n",
      "Solved model using OPI in 0.09804 seconds.\n",
      "TOC: Elapsed: 0:00:0.09\n",
      "Solving model via using OPI.\n",
      "OPI terminated successfully in 15 iterations (m = 81).\n",
      "TOC: Elapsed: 0:00:0.08\n",
      "Solved model using OPI in 0.08959 seconds.\n",
      "TOC: Elapsed: 0:00:0.08\n"
     ]
    },
    {
     "data": {
      "image/png": "[encoded data removed]",
      "text/plain": [
       "<Figure size 900x520 with 1 Axes>"
      ]
     },
     "metadata": {},
     "output_type": "display_data"
    }
   ],
   "source": [
    "hpi_time, vfi_time, opi_times = test_timing_jax(model)"
   ]
  },
  {
   "cell_type": "code",
   "execution_count": 36,
   "id": "e8befa0e",
   "metadata": {
    "execution": {
     "iopub.execute_input": "2023-08-20T09:54:20.477006Z",
     "iopub.status.busy": "2023-08-20T09:54:20.476872Z",
     "iopub.status.idle": "2023-08-20T09:54:20.479408Z",
     "shell.execute_reply": "2023-08-20T09:54:20.478969Z"
    }
   },
   "outputs": [
    {
     "name": "stdout",
     "output_type": "stream",
     "text": [
      "\n",
      "Run times relative to HPI:\n",
      "\n",
      "HPI = 0.10135149955749512\n",
      "VFI / HPI = 15.327208485552777\n",
      "best OPI / HPI = 0.8841258153982955\n"
     ]
    }
   ],
   "source": [
    "print(\"\\nRun times relative to HPI:\\n\")\n",
    "print(f\"HPI = {hpi_time}\")\n",
    "print(f\"VFI / HPI = {vfi_time / hpi_time}\")\n",
    "print(f\"best OPI / HPI = {min(opi_times) / hpi_time}\")"
   ]
  }
 ],
 "metadata": {
  "jupytext": {
   "cell_metadata_filter": "-all",
   "main_language": "python",
   "notebook_metadata_filter": "-all"
  },
  "kernelspec": {
   "display_name": "Python 3 (ipykernel)",
   "language": "python",
   "name": "python3"
  },
  "language_info": {
   "codemirror_mode": {
    "name": "ipython",
    "version": 3
   },
   "file_extension": ".py",
   "mimetype": "text/x-python",
   "name": "python",
   "nbconvert_exporter": "python",
   "pygments_lexer": "ipython3",
   "version": "3.10.9"
  }
 },
 "nbformat": 4,
 "nbformat_minor": 5
}
