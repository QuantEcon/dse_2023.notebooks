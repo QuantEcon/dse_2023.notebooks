{
 "cells": [
  {
   "cell_type": "markdown",
   "id": "5aeca1f4",
   "metadata": {},
   "source": [
    "# Inventory management via Python/Numpy"
   ]
  },
  {
   "cell_type": "code",
   "execution_count": 1,
   "id": "5b07ce3b",
   "metadata": {
    "execution": {
     "iopub.execute_input": "2023-08-20T09:41:19.301902Z",
     "iopub.status.busy": "2023-08-20T09:41:19.301296Z",
     "iopub.status.idle": "2023-08-20T09:41:20.114803Z",
     "shell.execute_reply": "2023-08-20T09:41:20.114309Z"
    },
    "lines_to_next_cell": 1
   },
   "outputs": [],
   "source": [
    "import quantecon as qe\n",
    "import numpy as np\n",
    "from collections import namedtuple\n",
    "from numba import njit, prange, int32\n",
    "import jax\n",
    "import jax.numpy as jnp\n",
    "import matplotlib.pyplot as plt"
   ]
  },
  {
   "cell_type": "markdown",
   "id": "5a475062",
   "metadata": {},
   "source": [
    "## Model and Primitives"
   ]
  },
  {
   "cell_type": "code",
   "execution_count": 2,
   "id": "2163110d",
   "metadata": {
    "execution": {
     "iopub.execute_input": "2023-08-20T09:41:20.116726Z",
     "iopub.status.busy": "2023-08-20T09:41:20.116527Z",
     "iopub.status.idle": "2023-08-20T09:41:20.119231Z",
     "shell.execute_reply": "2023-08-20T09:41:20.118767Z"
    },
    "lines_to_next_cell": 1
   },
   "outputs": [],
   "source": [
    "def f(y, a, d):\n",
    "    \" Inventory update rule. \"\n",
    "    return np.maximum(y - d, 0) + a "
   ]
  },
  {
   "cell_type": "code",
   "execution_count": 3,
   "id": "1f13c29b",
   "metadata": {
    "execution": {
     "iopub.execute_input": "2023-08-20T09:41:20.120784Z",
     "iopub.status.busy": "2023-08-20T09:41:20.120623Z",
     "iopub.status.idle": "2023-08-20T09:41:20.123164Z",
     "shell.execute_reply": "2023-08-20T09:41:20.122698Z"
    },
    "lines_to_next_cell": 1
   },
   "outputs": [],
   "source": [
    "Params = namedtuple(   # Stores model parameters\n",
    "         \"Params\", (\"K\", \"c\", \"κ\", \"p\"))"
   ]
  },
  {
   "cell_type": "code",
   "execution_count": 4,
   "id": "476fe736",
   "metadata": {
    "execution": {
     "iopub.execute_input": "2023-08-20T09:41:20.124982Z",
     "iopub.status.busy": "2023-08-20T09:41:20.124630Z",
     "iopub.status.idle": "2023-08-20T09:41:20.128222Z",
     "shell.execute_reply": "2023-08-20T09:41:20.127812Z"
    }
   },
   "outputs": [],
   "source": [
    "def build_R(params, y_vals, d_vals, ϕ_vals):\n",
    "    K, c, κ, p = params\n",
    "    n_y = K + 1\n",
    "    n_d = len(d_vals)\n",
    "    # Create R[y, a, yp, d] and then sum out last dimension\n",
    "    y  = np.reshape(y_vals, (n_y, 1, 1, 1))\n",
    "    a  = np.reshape(y_vals, (1, n_y, 1, 1))\n",
    "    yp = np.reshape(y_vals, (1, 1, n_y, 1))\n",
    "    d  = np.reshape(d_vals, (1, 1, 1, n_d))\n",
    "    ϕ  = np.reshape(ϕ_vals, (1, 1, 1, n_d))\n",
    "    feasible = a <= K - y\n",
    "    temp = (f(y, a, d_vals) == yp) * feasible\n",
    "    R = np.sum(temp * ϕ_vals, axis=3)\n",
    "    return R"
   ]
  },
  {
   "cell_type": "code",
   "execution_count": 5,
   "id": "b5387384",
   "metadata": {
    "execution": {
     "iopub.execute_input": "2023-08-20T09:41:20.129812Z",
     "iopub.status.busy": "2023-08-20T09:41:20.129666Z",
     "iopub.status.idle": "2023-08-20T09:41:20.133157Z",
     "shell.execute_reply": "2023-08-20T09:41:20.132753Z"
    }
   },
   "outputs": [],
   "source": [
    "def build_r(params, y_vals, d_vals, ϕ_vals):\n",
    "    K, c, κ, p = params\n",
    "    n_y = K + 1\n",
    "    n_d = len(d_vals)\n",
    "    y = np.reshape(y_vals, (n_y, 1))\n",
    "    d = np.reshape(d_vals, (1, n_d))\n",
    "    ϕ = np.reshape(ϕ_vals, (1, n_d))\n",
    "    revenue = np.minimum(y, d) * ϕ \n",
    "    exp_revenue = np.sum(revenue, axis=1)\n",
    "    exp_revenue = np.reshape(exp_revenue, (n_y, 1))\n",
    "    a = np.reshape(y_vals, (1, n_y))\n",
    "    cost = c * a + κ * (a > 0)\n",
    "    exp_profit = exp_revenue - cost\n",
    "    feasible = a <= K - y\n",
    "    r = np.where(feasible, exp_profit, -np.inf)\n",
    "    return r"
   ]
  },
  {
   "cell_type": "code",
   "execution_count": 6,
   "id": "0a34083a",
   "metadata": {
    "execution": {
     "iopub.execute_input": "2023-08-20T09:41:20.134724Z",
     "iopub.status.busy": "2023-08-20T09:41:20.134540Z",
     "iopub.status.idle": "2023-08-20T09:41:20.137056Z",
     "shell.execute_reply": "2023-08-20T09:41:20.136654Z"
    }
   },
   "outputs": [],
   "source": [
    "Arrays = namedtuple(  # Stores arrays for model\n",
    "         \"Arrays\", (\"r\", \"R\", \"y_vals\", \"z_vals\", \"Q\"))"
   ]
  },
  {
   "cell_type": "code",
   "execution_count": 7,
   "id": "60fc0bc5",
   "metadata": {
    "execution": {
     "iopub.execute_input": "2023-08-20T09:41:20.138594Z",
     "iopub.status.busy": "2023-08-20T09:41:20.138463Z",
     "iopub.status.idle": "2023-08-20T09:41:20.141017Z",
     "shell.execute_reply": "2023-08-20T09:41:20.140610Z"
    },
    "lines_to_next_cell": 1
   },
   "outputs": [],
   "source": [
    "Model = namedtuple(   # Stores all model data\n",
    "        \"Model\", (\"params\", \"sizes\", \"arrays\"))"
   ]
  },
  {
   "cell_type": "code",
   "execution_count": 8,
   "id": "293e4df8",
   "metadata": {
    "execution": {
     "iopub.execute_input": "2023-08-20T09:41:20.142702Z",
     "iopub.status.busy": "2023-08-20T09:41:20.142376Z",
     "iopub.status.idle": "2023-08-20T09:41:20.146911Z",
     "shell.execute_reply": "2023-08-20T09:41:20.146461Z"
    }
   },
   "outputs": [],
   "source": [
    "def create_sdd_inventory_model(ρ=0.98,        # Z persistence\n",
    "                               ν=0.002,       # Z volatility\n",
    "                               n_z=12,        # size of Z grid\n",
    "                               b=0.97,        # Z mean\n",
    "                               K=100,         # max inventory        \n",
    "                               d_max=100,     # max value of d\n",
    "                               c=0.2,         # unit cost\n",
    "                               κ=0.8,         # fixed cost\n",
    "                               p=0.6):        # demand parameter\n",
    "\n",
    "    \"\"\"\n",
    "    Stores inventory management model primitives and default values.\n",
    "\n",
    "    The discount factor takes the form β_t = Z_t, where (Z_t) is a \n",
    "    Tauchen discretization of the Gaussian AR(1) process \n",
    "\n",
    "        Z_t = ρ Z_{t-1} + b + ν W_t.\n",
    "\n",
    "    \"\"\"\n",
    "\n",
    "\n",
    "    n_y = K + 1               # size of state space\n",
    "    y_vals = np.arange(n_y)   # inventory levels 0,...,K\n",
    "\n",
    "    # Construct r and R arrays\n",
    "    def ϕ(d):\n",
    "        return (1 - p)**d * p                      \n",
    "    d_vals = np.arange(d_max)\n",
    "    ϕ_vals = ϕ(d_vals)\n",
    "\n",
    "    # Build the exogenous discount process \n",
    "    mc = qe.tauchen(n_z, ρ, ν)\n",
    "    z_vals, Q = mc.state_values + b, mc.P\n",
    "\n",
    "    # Test spectral radius condition\n",
    "    ρL = np.max(np.abs(np.linalg.eigvals(z_vals * Q)))     \n",
    "    if ρL >= 1:\n",
    "        raise NotImplementedError(\"Error: ρ(L) ≥ 1.\")\n",
    "    else:\n",
    "        print(f\"Building model with ρ(L) = {ρL}\")\n",
    "\n",
    "    # Build namedtuples and return them\n",
    "    params = Params(K=K, c=c, κ=κ, p=p)\n",
    "    r = build_r(params, y_vals, d_vals, ϕ_vals)\n",
    "    R = build_R(params, y_vals, d_vals, ϕ_vals)\n",
    "\n",
    "    arrays = Arrays(r=r, R=R, y_vals=y_vals, z_vals=z_vals, Q=Q)\n",
    "    sizes = n_y, n_z\n",
    "    return Model(params=params, sizes=sizes, arrays=arrays)"
   ]
  },
  {
   "cell_type": "markdown",
   "id": "44233859",
   "metadata": {},
   "source": [
    "## DP algorithms"
   ]
  },
  {
   "cell_type": "code",
   "execution_count": 9,
   "id": "28421563",
   "metadata": {
    "execution": {
     "iopub.execute_input": "2023-08-20T09:41:20.148414Z",
     "iopub.status.busy": "2023-08-20T09:41:20.148299Z",
     "iopub.status.idle": "2023-08-20T09:41:20.151737Z",
     "shell.execute_reply": "2023-08-20T09:41:20.151338Z"
    }
   },
   "outputs": [],
   "source": [
    "def value_function_iteration(v_init, \n",
    "                             T,\n",
    "                             get_greedy,\n",
    "                             tolerance=1e-6,        # Error tolerance\n",
    "                             max_iter=10_000,       # Max iteration bound\n",
    "                             print_step=25,         # Print at multiples\n",
    "                             verbose=False,\n",
    "                             usejax=False):\n",
    "    \"\"\"\n",
    "        Compute v_star via VFI and then compute greedy.\n",
    "    \"\"\"\n",
    "    array_lib = jnp if usejax else np\n",
    "\n",
    "    v = v_init\n",
    "    error = tolerance + 1\n",
    "    k = 1\n",
    "    while error > tolerance and k <= max_iter:\n",
    "        v_new = T(v)\n",
    "        error = array_lib.max(array_lib.abs(v_new - v))\n",
    "        if verbose and (k % print_step) == 0:\n",
    "            print(f\"Completed iteration {k} with error {error}.\")\n",
    "        v = v_new\n",
    "        k += 1\n",
    "    if error > tolerance:\n",
    "        print(f\"Warning: Iteration hit upper bound {max_iter}.\")\n",
    "    elif verbose:\n",
    "        print(f\"VFI terminated successfully in {k} iterations.\")\n",
    "    v_star = v\n",
    "    σ_star = get_greedy(v_star)\n",
    "    return v_star, σ_star"
   ]
  },
  {
   "cell_type": "code",
   "execution_count": 10,
   "id": "a635b874",
   "metadata": {
    "execution": {
     "iopub.execute_input": "2023-08-20T09:41:20.153387Z",
     "iopub.status.busy": "2023-08-20T09:41:20.153117Z",
     "iopub.status.idle": "2023-08-20T09:41:20.156586Z",
     "shell.execute_reply": "2023-08-20T09:41:20.156183Z"
    }
   },
   "outputs": [],
   "source": [
    "def optimistic_policy_iteration(v_init, \n",
    "                                T_σ,\n",
    "                                get_greedy,\n",
    "                                m=20,\n",
    "                                tolerance=1e-6, \n",
    "                                max_iter=1_000,\n",
    "                                print_step=10,\n",
    "                                verbose=False,\n",
    "                                usejax=False):\n",
    "    \"Optimistic policy iteration routine.\"\n",
    "    \n",
    "    array_lib = jnp if usejax else np\n",
    "    v = v_init\n",
    "    error = tolerance + 1\n",
    "    k = 1\n",
    "    while error > tolerance and k < max_iter:\n",
    "        last_v = v\n",
    "        σ = get_greedy(v)\n",
    "        for i in range(m):\n",
    "            v = T_σ(v, σ)\n",
    "        error = array_lib.max(array_lib.abs(v - last_v))\n",
    "        if verbose and k % print_step == 0:\n",
    "            print(f\"Completed iteration {k} with error {error}.\")\n",
    "        k += 1\n",
    "    if error > tolerance:\n",
    "        print(f\"Warning: Iteration hit upper bound {max_iter}.\")\n",
    "    else: \n",
    "        print(f\"OPI terminated successfully in {k} iterations (m = {m}).\")\n",
    "    return v, get_greedy(v)"
   ]
  },
  {
   "cell_type": "code",
   "execution_count": 11,
   "id": "2ad82a4b",
   "metadata": {
    "execution": {
     "iopub.execute_input": "2023-08-20T09:41:20.158034Z",
     "iopub.status.busy": "2023-08-20T09:41:20.157919Z",
     "iopub.status.idle": "2023-08-20T09:41:20.161004Z",
     "shell.execute_reply": "2023-08-20T09:41:20.160599Z"
    }
   },
   "outputs": [],
   "source": [
    "def howard_policy_iteration(v_init, \n",
    "                            get_value,\n",
    "                            get_greedy,\n",
    "                            verbose=False,\n",
    "                            usejax=False):\n",
    "    \"Howard policy iteration routine.\"\n",
    "    array_lib = jnp if usejax else np\n",
    "\n",
    "    σ = get_greedy(v_init)\n",
    "    i, error = 0, 1.0\n",
    "    while error > 0:\n",
    "        v_σ = get_value(σ)\n",
    "        σ_new = get_greedy(v_σ)\n",
    "        error = array_lib.max(array_lib.abs(σ_new - σ))\n",
    "        σ = σ_new\n",
    "        i = i + 1\n",
    "        if verbose:\n",
    "            print(f\"Concluded loop {i} with error {error}.\")\n",
    "    print(f\"HPI converged in {i} iteration(s).\")\n",
    "    return v_σ, σ"
   ]
  },
  {
   "cell_type": "markdown",
   "id": "0d213e6a",
   "metadata": {},
   "source": [
    "## Code for simulations and plots"
   ]
  },
  {
   "cell_type": "code",
   "execution_count": 12,
   "id": "93abfa4e",
   "metadata": {
    "execution": {
     "iopub.execute_input": "2023-08-20T09:41:20.162475Z",
     "iopub.status.busy": "2023-08-20T09:41:20.162361Z",
     "iopub.status.idle": "2023-08-20T09:41:20.165858Z",
     "shell.execute_reply": "2023-08-20T09:41:20.165446Z"
    }
   },
   "outputs": [],
   "source": [
    "def sim_inventories(model, σ_star, ts_length, Y_init=0, seed=500):\n",
    "    \"\"\"\n",
    "        Simulate inventory dynamics and interest rates given an \n",
    "        optimal policy σ_star.\n",
    "    \"\"\"\n",
    "    # Set up\n",
    "    np.random.seed(seed)\n",
    "    K, c, κ, p = model.params\n",
    "    r, R, y_vals, z_vals, Q = model.arrays\n",
    "\n",
    "    # Generate Markov chain for discount factor\n",
    "    z_mc = qe.MarkovChain(Q, z_vals)\n",
    "    i_z = z_mc.simulate_indices(ts_length, init=1, random_state=seed)\n",
    "\n",
    "    # Generate corresponding inventory series\n",
    "    Y = np.zeros(ts_length, dtype=int)\n",
    "    Y[0] = Y_init\n",
    "    for t in range(ts_length - 1):\n",
    "        D = np.random.geometric(p) - 1\n",
    "        a = σ_star[Y[t], i_z[t]] \n",
    "        Y[t+1] = f(Y[t],  a,  D)\n",
    "\n",
    "    # Return both series\n",
    "    return Y, z_vals[i_z]"
   ]
  },
  {
   "cell_type": "code",
   "execution_count": 13,
   "id": "95995333",
   "metadata": {
    "execution": {
     "iopub.execute_input": "2023-08-20T09:41:20.167478Z",
     "iopub.status.busy": "2023-08-20T09:41:20.167364Z",
     "iopub.status.idle": "2023-08-20T09:41:20.171105Z",
     "shell.execute_reply": "2023-08-20T09:41:20.170698Z"
    }
   },
   "outputs": [],
   "source": [
    "def plot_ts(model,\n",
    "            σ_star,\n",
    "            ts_length=400,\n",
    "            fontsize=12, \n",
    "            figname=\"ts.pdf\",\n",
    "            savefig=False):\n",
    "    \"\"\"\n",
    "        Solve model, plot a time series of inventory and interest rates.\n",
    "\n",
    "    \"\"\"\n",
    "\n",
    "    # Obtain inventory and discount factor series\n",
    "    Y, Z = sim_inventories(model, σ_star, ts_length)\n",
    "    r = (1 / Z) - 1 # calculate interest rate from discount factors\n",
    "\n",
    "    # Plot\n",
    "    fig, axes = plt.subplots(2, 1, figsize=(9, 5.5))\n",
    "    ax = axes[0]\n",
    "    ax.plot(Y, label=\"inventory\", alpha=0.7)\n",
    "    ax.set_xlabel(\"time\", fontsize=fontsize)\n",
    "    ax.legend(fontsize=fontsize, frameon=False)\n",
    "    ax.set_ylim(0, np.max(Y)+3)\n",
    "    ax = axes[1]\n",
    "    ax.plot(r, label=\"$r_t$\", alpha=0.7)\n",
    "    ax.set_xlabel(\"$t$\", fontsize=fontsize)\n",
    "    ax.legend(fontsize=fontsize, frameon=False)\n",
    "    plt.tight_layout()\n",
    "    plt.show()\n",
    "    if savefig:\n",
    "        fig.savefig(figname)"
   ]
  },
  {
   "cell_type": "code",
   "execution_count": null,
   "id": "f25ff465",
   "metadata": {},
   "outputs": [],
   "source": []
  },
  {
   "cell_type": "code",
   "execution_count": 14,
   "id": "453b2adc",
   "metadata": {
    "execution": {
     "iopub.execute_input": "2023-08-20T09:41:20.172634Z",
     "iopub.status.busy": "2023-08-20T09:41:20.172455Z",
     "iopub.status.idle": "2023-08-20T09:41:20.175651Z",
     "shell.execute_reply": "2023-08-20T09:41:20.175241Z"
    }
   },
   "outputs": [],
   "source": [
    "def plot_timing(hpi_time, \n",
    "                vfi_time,\n",
    "                opi_times,\n",
    "                m_vals, \n",
    "                figname=\"timing.pdf\",\n",
    "                fontsize=12,\n",
    "                savefig=False):\n",
    "    \"\"\"\n",
    "    Plot relative timing of different algorithms.\n",
    "\n",
    "    \"\"\"\n",
    "    fig, ax = plt.subplots(figsize=(9, 5.2))\n",
    "\n",
    "    y_values = (np.full(len(m_vals), vfi_time), \n",
    "                np.full(len(m_vals), hpi_time),\n",
    "                opi_times)\n",
    "    labels = \"VFI\", \"HPI\", \"OPI\"\n",
    "\n",
    "    for y_vals, label in zip(y_values, labels):\n",
    "        ax.plot(m_vals, y_vals, lw=2, label=label)\n",
    "\n",
    "    ax.legend(fontsize=fontsize, frameon=False)\n",
    "    ax.set_xlabel(\"$m$\", fontsize=fontsize)\n",
    "    ax.set_ylabel(\"time\", fontsize=fontsize)\n",
    "    plt.show()\n",
    "\n",
    "    if savefig:\n",
    "        fig.savefig(figname)"
   ]
  },
  {
   "cell_type": "code",
   "execution_count": null,
   "id": "578da4e9",
   "metadata": {
    "lines_to_next_cell": 2
   },
   "outputs": [],
   "source": []
  },
  {
   "cell_type": "markdown",
   "id": "498a11a6",
   "metadata": {},
   "source": [
    "## Operators and functions "
   ]
  },
  {
   "cell_type": "code",
   "execution_count": 15,
   "id": "8a6ac3bc",
   "metadata": {
    "execution": {
     "iopub.execute_input": "2023-08-20T09:41:20.177066Z",
     "iopub.status.busy": "2023-08-20T09:41:20.176950Z",
     "iopub.status.idle": "2023-08-20T09:41:20.180374Z",
     "shell.execute_reply": "2023-08-20T09:41:20.179961Z"
    }
   },
   "outputs": [],
   "source": [
    "def B(v, model):\n",
    "    \"\"\"\n",
    "    B(y, z, a, v) = r(y, a) + β(z) Σ_{y′, z′} v(y′, z′) R(y, a, y′) Q(z, z′)\n",
    "\n",
    "    \"\"\"\n",
    "    K, c, κ, p = model.params\n",
    "    r, R, y_vals, z_vals, Q = model.arrays\n",
    "    n_y, n_z = len(y_vals), len(z_vals)\n",
    "\n",
    "    # broadcasting over    (y,   z,   a)\n",
    "    r = np.reshape(r,      (n_y, 1,   n_y))\n",
    "    β = np.reshape(z_vals, (1,   n_z, 1))\n",
    "\n",
    "    # broadcasting over (y,   z,   a,   yp,   zp)\n",
    "    R = np.reshape(R,   (n_y, 1,   n_y, n_y,  1))\n",
    "    Q = np.reshape(Q,   (1,   n_z, 1,   1,    n_z))\n",
    "    v = np.reshape(v,   (1,   1,   1,   n_y,  n_z))\n",
    "\n",
    "    Ev = np.sum(v * R * Q, axis=(3, 4))\n",
    "    return r + β * Ev"
   ]
  },
  {
   "cell_type": "code",
   "execution_count": 16,
   "id": "fa3c707b",
   "metadata": {
    "execution": {
     "iopub.execute_input": "2023-08-20T09:41:20.181874Z",
     "iopub.status.busy": "2023-08-20T09:41:20.181694Z",
     "iopub.status.idle": "2023-08-20T09:41:20.184322Z",
     "shell.execute_reply": "2023-08-20T09:41:20.183915Z"
    },
    "lines_to_next_cell": 1
   },
   "outputs": [],
   "source": [
    "def compute_r_σ(σ, model):\n",
    "    r, R, y_vals, z_vals, Q = model.arrays\n",
    "    n_y, n_z = len(y_vals), len(z_vals)\n",
    "    z_idx = range(n_z)\n",
    "    # Create r_σ with indices (y,   z)\n",
    "    y = np.reshape(y_vals,    (n_y, 1))\n",
    "    z = np.reshape(z_idx,     (1,   n_z))\n",
    "    r_σ = r[y, σ[y, z]]\n",
    "    return r_σ"
   ]
  },
  {
   "cell_type": "code",
   "execution_count": 17,
   "id": "4dc28c20",
   "metadata": {
    "execution": {
     "iopub.execute_input": "2023-08-20T09:41:20.185733Z",
     "iopub.status.busy": "2023-08-20T09:41:20.185618Z",
     "iopub.status.idle": "2023-08-20T09:41:20.188647Z",
     "shell.execute_reply": "2023-08-20T09:41:20.188237Z"
    },
    "lines_to_next_cell": 1
   },
   "outputs": [],
   "source": [
    "def compute_R_σ(σ, model):\n",
    "    r, R, y_vals, z_vals, Q = model.arrays\n",
    "    n_y, n_z = len(y_vals), len(z_vals)\n",
    "    z_idx = range(n_z)\n",
    "    # Create R_σ with indices (y,   z,   yp)\n",
    "    y  = np.reshape(y_vals,   (n_y, 1,   1))\n",
    "    yp = np.reshape(y_vals,   (1,   1,   n_y))\n",
    "    z  = np.reshape(z_idx,    (1,   n_z, 1))\n",
    "    R_σ = R[y, σ[y, z], yp]\n",
    "    return R_σ "
   ]
  },
  {
   "cell_type": "code",
   "execution_count": 18,
   "id": "4e49f8ed",
   "metadata": {
    "execution": {
     "iopub.execute_input": "2023-08-20T09:41:20.190164Z",
     "iopub.status.busy": "2023-08-20T09:41:20.189986Z",
     "iopub.status.idle": "2023-08-20T09:41:20.192770Z",
     "shell.execute_reply": "2023-08-20T09:41:20.192361Z"
    }
   },
   "outputs": [],
   "source": [
    "def compute_L_σ(σ, model):\n",
    "    r, R, y_vals, z_vals, Q = model.arrays\n",
    "    n_y, n_z = len(y_vals), len(z_vals)\n",
    "    R_σ = compute_R_σ(σ, model)\n",
    "    # Create L_σ with indices (y,   z,   yp,  zp)\n",
    "    β   = np.reshape(z_vals,  (1,   n_z, 1,   1))\n",
    "    R_σ = np.reshape(R_σ,     (n_y, n_z, n_y, 1))\n",
    "    Q   = np.reshape(Q,       (1,   n_z, 1,   n_z))\n",
    "    L_σ = β * R_σ * Q\n",
    "    return L_σ"
   ]
  },
  {
   "cell_type": "code",
   "execution_count": 19,
   "id": "4ddfbc2c",
   "metadata": {
    "execution": {
     "iopub.execute_input": "2023-08-20T09:41:20.194122Z",
     "iopub.status.busy": "2023-08-20T09:41:20.194008Z",
     "iopub.status.idle": "2023-08-20T09:41:20.196231Z",
     "shell.execute_reply": "2023-08-20T09:41:20.195931Z"
    }
   },
   "outputs": [],
   "source": [
    "def T(v, model):\n",
    "    \"The Bellman operator.\"\n",
    "    return np.max(B(v, model), axis=2)"
   ]
  },
  {
   "cell_type": "code",
   "execution_count": 20,
   "id": "d12eec38",
   "metadata": {
    "execution": {
     "iopub.execute_input": "2023-08-20T09:41:20.197640Z",
     "iopub.status.busy": "2023-08-20T09:41:20.197525Z",
     "iopub.status.idle": "2023-08-20T09:41:20.199699Z",
     "shell.execute_reply": "2023-08-20T09:41:20.199295Z"
    }
   },
   "outputs": [],
   "source": [
    "def get_greedy(v, model):\n",
    "    \"Get a v-greedy policy.\"\n",
    "    return np.argmax(B(v, model), axis=2)"
   ]
  },
  {
   "cell_type": "code",
   "execution_count": 21,
   "id": "0ce3ecca",
   "metadata": {
    "execution": {
     "iopub.execute_input": "2023-08-20T09:41:20.201243Z",
     "iopub.status.busy": "2023-08-20T09:41:20.201065Z",
     "iopub.status.idle": "2023-08-20T09:41:20.203659Z",
     "shell.execute_reply": "2023-08-20T09:41:20.203293Z"
    }
   },
   "outputs": [],
   "source": [
    "def T_σ(v, σ, model):\n",
    "    \"The policy operator.\"\n",
    "    r, R, y_vals, z_vals, Q = model.arrays\n",
    "    n_z, n_y = len(z_vals), len(y_vals)\n",
    "    r_σ = compute_r_σ(σ, model)\n",
    "    L_σ = compute_L_σ(σ, model)\n",
    "    v = np.reshape(v, (1, 1, n_y, n_z))\n",
    "    return r_σ + np.sum(L_σ * v, axis=(2, 3))"
   ]
  },
  {
   "cell_type": "code",
   "execution_count": 22,
   "id": "86ba6842",
   "metadata": {
    "execution": {
     "iopub.execute_input": "2023-08-20T09:41:20.205019Z",
     "iopub.status.busy": "2023-08-20T09:41:20.204904Z",
     "iopub.status.idle": "2023-08-20T09:41:20.207799Z",
     "shell.execute_reply": "2023-08-20T09:41:20.207500Z"
    }
   },
   "outputs": [],
   "source": [
    "def get_value(σ, model):\n",
    "    r, R, y_vals, z_vals, Q = model.arrays\n",
    "    n_z, n_y = len(z_vals), len(y_vals)\n",
    "    r_σ = compute_r_σ(σ, model)\n",
    "    L_σ = compute_L_σ(σ, model)\n",
    "    # Reshape for matrix algebra\n",
    "    n = n_z * n_y\n",
    "    L_σ = np.reshape(L_σ, (n, n))\n",
    "    r_σ = np.reshape(r_σ, n)\n",
    "    # Apply matrix operations --- solve for the value of σ \n",
    "    I = np.identity(n)\n",
    "    v_σ = np.linalg.solve(I - L_σ,  r_σ)\n",
    "    # Return as multi-index array\n",
    "    return np.reshape(v_σ, (n_y, n_z))"
   ]
  },
  {
   "cell_type": "markdown",
   "id": "654e2bec",
   "metadata": {},
   "source": [
    "## Custom solvers "
   ]
  },
  {
   "cell_type": "code",
   "execution_count": 23,
   "id": "865d94bc",
   "metadata": {
    "execution": {
     "iopub.execute_input": "2023-08-20T09:41:20.209224Z",
     "iopub.status.busy": "2023-08-20T09:41:20.209106Z",
     "iopub.status.idle": "2023-08-20T09:41:20.213032Z",
     "shell.execute_reply": "2023-08-20T09:41:20.212625Z"
    }
   },
   "outputs": [],
   "source": [
    "def solve_model_numpy(model, algorithm=\"OPI\", **kwargs):\n",
    "    \"\"\"\n",
    "    General purpose solver. \n",
    "\n",
    "    algorithm : OPI, VFI or HPI\n",
    "\n",
    "    \"\"\"\n",
    "\n",
    "    # Set up\n",
    "    n_y, n_z = model.sizes\n",
    "    v_init = np.zeros((n_y, n_z))\n",
    "\n",
    "    # Solve\n",
    "    print(f\"Solving model via using {algorithm}.\")\n",
    "    match algorithm:\n",
    "        case \"OPI\":\n",
    "            solver = optimistic_policy_iteration\n",
    "            args = (v_init, \n",
    "                lambda v, σ: T_σ(v, σ, model), \n",
    "                lambda v: get_greedy(v, model))\n",
    "        case \"HPI\":\n",
    "            solver = howard_policy_iteration\n",
    "            args = (v_init, \n",
    "                lambda σ: get_value(σ, model), \n",
    "                lambda v: get_greedy(v, model))\n",
    "        case \"VFI\":\n",
    "            solver = value_function_iteration\n",
    "            args = (v_init, \n",
    "                lambda v: T(v, model), \n",
    "                lambda v: get_greedy(v, model))\n",
    "        case _:\n",
    "            raise ValueError(\"Algorithm must be in {OPI, VFI, HPI}\")\n",
    "\n",
    "    qe.tic()\n",
    "    v_star, σ_star = solver(*args, **kwargs)\n",
    "    run_time = qe.toc()\n",
    "    print(f\"Solved model using {algorithm} in {run_time:.5f} seconds.\")\n",
    "\n",
    "    return v_star, σ_star"
   ]
  },
  {
   "cell_type": "code",
   "execution_count": 24,
   "id": "44dd2729",
   "metadata": {
    "execution": {
     "iopub.execute_input": "2023-08-20T09:41:20.214528Z",
     "iopub.status.busy": "2023-08-20T09:41:20.214350Z",
     "iopub.status.idle": "2023-08-20T09:41:20.217911Z",
     "shell.execute_reply": "2023-08-20T09:41:20.217481Z"
    }
   },
   "outputs": [],
   "source": [
    "def test_timing_numpy(model,\n",
    "                      m_vals=range(1, 100, 20),\n",
    "                      figname=\"numpy_timing.pdf\",\n",
    "                      savefig=False):\n",
    "    \"\"\"\n",
    "    Plot relative timing of different algorithms.\n",
    "\n",
    "    \"\"\"\n",
    "\n",
    "    qe.tic()\n",
    "    _, σ_pi = solve_model_numpy(model, algorithm=\"HPI\")\n",
    "    hpi_time = qe.toc()\n",
    "\n",
    "    qe.tic()\n",
    "    _, σ_vfi = solve_model_numpy(model, algorithm=\"VFI\")\n",
    "    vfi_time = qe.toc()\n",
    "\n",
    "    error = np.max(np.abs(σ_vfi - σ_pi))\n",
    "    if error:\n",
    "        print(\"Warning: VFI policy deviated with max error {error}.\")\n",
    "\n",
    "    opi_times = []\n",
    "    for m in m_vals:\n",
    "        qe.tic()\n",
    "        _, σ_opi = solve_model_numpy(model, algorithm=\"OPI\", m=m)\n",
    "        opi_times.append(qe.toc())\n",
    "\n",
    "        error = np.max(np.abs(σ_opi - σ_pi))\n",
    "        if error:\n",
    "            print(\"Warning: OPI policy deviated with max error {error}.\")\n",
    "\n",
    "    plot_timing(hpi_time, \n",
    "                vfi_time,\n",
    "                opi_times,\n",
    "                m_vals, \n",
    "                figname=figname,\n",
    "                savefig=False)\n",
    "\n",
    "    return hpi_time, vfi_time, opi_times"
   ]
  },
  {
   "cell_type": "markdown",
   "id": "f5baf152",
   "metadata": {},
   "source": [
    "## Simulations and plots "
   ]
  },
  {
   "cell_type": "code",
   "execution_count": 25,
   "id": "44c9b735",
   "metadata": {
    "execution": {
     "iopub.execute_input": "2023-08-20T09:41:20.219298Z",
     "iopub.status.busy": "2023-08-20T09:41:20.219181Z",
     "iopub.status.idle": "2023-08-20T09:41:20.656024Z",
     "shell.execute_reply": "2023-08-20T09:41:20.655549Z"
    }
   },
   "outputs": [
    {
     "name": "stdout",
     "output_type": "stream",
     "text": [
      "Building model with ρ(L) = 0.977143695769931\n"
     ]
    }
   ],
   "source": [
    "model = create_sdd_inventory_model()"
   ]
  },
  {
   "cell_type": "markdown",
   "id": "b6475bc4",
   "metadata": {},
   "source": [
    "### Solve by VFI"
   ]
  },
  {
   "cell_type": "code",
   "execution_count": 26,
   "id": "fc3a1974",
   "metadata": {
    "execution": {
     "iopub.execute_input": "2023-08-20T09:41:20.658055Z",
     "iopub.status.busy": "2023-08-20T09:41:20.657897Z",
     "iopub.status.idle": "2023-08-20T09:44:19.442557Z",
     "shell.execute_reply": "2023-08-20T09:44:19.442092Z"
    }
   },
   "outputs": [
    {
     "name": "stdout",
     "output_type": "stream",
     "text": [
      "Solving model via using VFI.\n",
      "Completed iteration 25 with error 0.5739779924809891.\n",
      "Completed iteration 50 with error 0.401643007927202.\n",
      "Completed iteration 75 with error 0.25370625675735425.\n",
      "Completed iteration 100 with error 0.15160902156796396.\n",
      "Completed iteration 125 with error 0.08410577632668037.\n",
      "Completed iteration 150 with error 0.04033201378753404.\n",
      "Completed iteration 175 with error 0.0201899569534163.\n",
      "Completed iteration 200 with error 0.011168317779343795.\n",
      "Completed iteration 225 with error 0.006278262218593511.\n",
      "Completed iteration 250 with error 0.0035278040512025655.\n",
      "Completed iteration 275 with error 0.0019808976817543567.\n",
      "Completed iteration 300 with error 0.001111845195786998.\n",
      "Completed iteration 325 with error 0.000623919808440121.\n",
      "Completed iteration 350 with error 0.0003500730069347924.\n",
      "Completed iteration 375 with error 0.00019640746908322626.\n",
      "Completed iteration 400 with error 0.00011018953769337259.\n",
      "Completed iteration 425 with error 6.181775445668336e-05.\n",
      "Completed iteration 450 with error 3.468013564145167e-05.\n",
      "Completed iteration 475 with error 1.9455634081566586e-05.\n",
      "Completed iteration 500 with error 1.091461294322471e-05.\n",
      "Completed iteration 525 with error 6.123086109255382e-06.\n",
      "Completed iteration 550 with error 3.435040639487852e-06.\n",
      "Completed iteration 575 with error 1.927050540473374e-06.\n",
      "Completed iteration 600 with error 1.0810708843678185e-06.\n",
      "VFI terminated successfully in 605 iterations.\n",
      "TOC: Elapsed: 0:02:58.78\n",
      "Solved model using VFI in 178.78169 seconds.\n"
     ]
    }
   ],
   "source": [
    "v_star, σ_star = solve_model_numpy(model, algorithm=\"VFI\", verbose=\"True\")"
   ]
  },
  {
   "cell_type": "markdown",
   "id": "7024d1d6",
   "metadata": {},
   "source": [
    "### Solve by HPI"
   ]
  },
  {
   "cell_type": "code",
   "execution_count": 27,
   "id": "5534722f",
   "metadata": {
    "execution": {
     "iopub.execute_input": "2023-08-20T09:44:19.444225Z",
     "iopub.status.busy": "2023-08-20T09:44:19.444070Z",
     "iopub.status.idle": "2023-08-20T09:44:22.567594Z",
     "shell.execute_reply": "2023-08-20T09:44:22.567020Z"
    }
   },
   "outputs": [
    {
     "name": "stdout",
     "output_type": "stream",
     "text": [
      "Solving model via using HPI.\n",
      "Concluded loop 1 with error 71.\n",
      "Concluded loop 2 with error 64.\n",
      "Concluded loop 3 with error 34.\n",
      "Concluded loop 4 with error 33.\n",
      "Concluded loop 5 with error 24.\n",
      "Concluded loop 6 with error 25.\n",
      "Concluded loop 7 with error 25.\n",
      "Concluded loop 8 with error 0.\n",
      "HPI converged in 8 iteration(s).\n",
      "TOC: Elapsed: 0:00:3.12\n",
      "Solved model using HPI in 3.12074 seconds.\n"
     ]
    }
   ],
   "source": [
    "v_star, σ_star = solve_model_numpy(model, algorithm=\"HPI\", verbose=\"True\")"
   ]
  },
  {
   "cell_type": "markdown",
   "id": "47e9ce43",
   "metadata": {},
   "source": [
    "### Solve by OPI"
   ]
  },
  {
   "cell_type": "code",
   "execution_count": 28,
   "id": "033ad19a",
   "metadata": {
    "execution": {
     "iopub.execute_input": "2023-08-20T09:44:22.569418Z",
     "iopub.status.busy": "2023-08-20T09:44:22.569241Z",
     "iopub.status.idle": "2023-08-20T09:44:38.635467Z",
     "shell.execute_reply": "2023-08-20T09:44:38.634948Z"
    },
    "lines_to_next_cell": 2
   },
   "outputs": [
    {
     "name": "stdout",
     "output_type": "stream",
     "text": [
      "Solving model via using OPI.\n",
      "Completed iteration 10 with error 0.3664662873701303.\n",
      "Completed iteration 20 with error 0.003672461505772162.\n",
      "Completed iteration 30 with error 3.603562219467449e-05.\n",
      "OPI terminated successfully in 39 iterations (m = 20).\n",
      "TOC: Elapsed: 0:00:16.06\n",
      "Solved model using OPI in 16.06349 seconds.\n"
     ]
    }
   ],
   "source": [
    "v_star, σ_star = solve_model_numpy(model, algorithm=\"OPI\", verbose=\"True\")"
   ]
  },
  {
   "cell_type": "code",
   "execution_count": 29,
   "id": "77e9b8c5",
   "metadata": {
    "execution": {
     "iopub.execute_input": "2023-08-20T09:44:38.637213Z",
     "iopub.status.busy": "2023-08-20T09:44:38.637042Z",
     "iopub.status.idle": "2023-08-20T09:44:39.048242Z",
     "shell.execute_reply": "2023-08-20T09:44:39.047760Z"
    }
   },
   "outputs": [
    {
     "data": {
      "image/png": "[encoded data removed]",
      "text/plain": [
       "<Figure size 900x550 with 2 Axes>"
      ]
     },
     "metadata": {},
     "output_type": "display_data"
    }
   ],
   "source": [
    "plot_ts(model, σ_star, figname=\"numpy_ts.pdf\", savefig=False)"
   ]
  },
  {
   "cell_type": "markdown",
   "id": "cbde9d83",
   "metadata": {},
   "source": [
    "### Test timing"
   ]
  },
  {
   "cell_type": "code",
   "execution_count": 30,
   "id": "0911c49e",
   "metadata": {
    "execution": {
     "iopub.execute_input": "2023-08-20T09:44:39.050113Z",
     "iopub.status.busy": "2023-08-20T09:44:39.049920Z",
     "iopub.status.idle": "2023-08-20T09:51:37.525736Z",
     "shell.execute_reply": "2023-08-20T09:51:37.525280Z"
    }
   },
   "outputs": [
    {
     "name": "stdout",
     "output_type": "stream",
     "text": [
      "Solving model via using HPI.\n",
      "HPI converged in 8 iteration(s).\n",
      "TOC: Elapsed: 0:00:3.11\n",
      "Solved model using HPI in 3.11808 seconds.\n",
      "TOC: Elapsed: 0:00:3.11\n",
      "Solving model via using VFI.\n",
      "TOC: Elapsed: 0:03:2.99\n",
      "Solved model using VFI in 182.99182 seconds.\n",
      "TOC: Elapsed: 0:03:2.99\n",
      "Solving model via using OPI.\n",
      "OPI terminated successfully in 605 iterations (m = 1).\n",
      "TOC: Elapsed: 0:03:3.95\n",
      "Solved model using OPI in 183.95001 seconds.\n",
      "TOC: Elapsed: 0:03:3.95\n",
      "Solving model via using OPI.\n",
      "OPI terminated successfully in 38 iterations (m = 21).\n",
      "TOC: Elapsed: 0:00:15.39\n",
      "Solved model using OPI in 15.39860 seconds.\n",
      "TOC: Elapsed: 0:00:15.39\n",
      "Solving model via using OPI.\n",
      "OPI terminated successfully in 22 iterations (m = 41).\n",
      "TOC: Elapsed: 0:00:11.04\n",
      "Solved model using OPI in 11.04427 seconds.\n",
      "TOC: Elapsed: 0:00:11.04\n",
      "Solving model via using OPI.\n",
      "OPI terminated successfully in 19 iterations (m = 61).\n",
      "TOC: Elapsed: 0:00:11.45\n",
      "Solved model using OPI in 11.45736 seconds.\n",
      "TOC: Elapsed: 0:00:11.45\n",
      "Solving model via using OPI.\n",
      "OPI terminated successfully in 15 iterations (m = 81).\n",
      "TOC: Elapsed: 0:00:10.40\n",
      "Solved model using OPI in 10.40097 seconds.\n",
      "TOC: Elapsed: 0:00:10.40\n"
     ]
    },
    {
     "data": {
      "image/png": "[encoded data removed]",
      "text/plain": [
       "<Figure size 900x520 with 1 Axes>"
      ]
     },
     "metadata": {},
     "output_type": "display_data"
    }
   ],
   "source": [
    "hpi_time, vfi_time, opi_times = test_timing_numpy(model)"
   ]
  },
  {
   "cell_type": "code",
   "execution_count": 31,
   "id": "039acc43",
   "metadata": {
    "execution": {
     "iopub.execute_input": "2023-08-20T09:51:37.527564Z",
     "iopub.status.busy": "2023-08-20T09:51:37.527404Z",
     "iopub.status.idle": "2023-08-20T09:51:37.530385Z",
     "shell.execute_reply": "2023-08-20T09:51:37.529946Z"
    }
   },
   "outputs": [
    {
     "name": "stdout",
     "output_type": "stream",
     "text": [
      "\n",
      "Run times relative to HPI:\n",
      "\n",
      "HPI = 3.1180996894836426\n",
      "VFI / HPI = 58.686994705258144\n",
      "best OPI / HPI = 3.33570143668981\n"
     ]
    }
   ],
   "source": [
    "print(\"\\nRun times relative to HPI:\\n\")\n",
    "print(f\"HPI = {hpi_time}\")\n",
    "print(f\"VFI / HPI = {vfi_time / hpi_time}\")\n",
    "print(f\"best OPI / HPI = {min(opi_times) / hpi_time}\")"
   ]
  }
 ],
 "metadata": {
  "jupytext": {
   "cell_metadata_filter": "-all",
   "main_language": "python",
   "notebook_metadata_filter": "-all"
  },
  "kernelspec": {
   "display_name": "Python 3 (ipykernel)",
   "language": "python",
   "name": "python3"
  },
  "language_info": {
   "codemirror_mode": {
    "name": "ipython",
    "version": 3
   },
   "file_extension": ".py",
   "mimetype": "text/x-python",
   "name": "python",
   "nbconvert_exporter": "python",
   "pygments_lexer": "ipython3",
   "version": "3.10.9"
  }
 },
 "nbformat": 4,
 "nbformat_minor": 5
}
